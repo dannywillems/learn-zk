{
 "cells": [
  {
   "cell_type": "markdown",
   "id": "c6720ece-82fd-4271-b9eb-6256ebe02541",
   "metadata": {},
   "source": [
    "Hello, and welcome in the first chapter. We will implement together a simplified version of PlonK using BN254 and KZG commitments."
   ]
  },
  {
   "cell_type": "markdown",
   "id": "b8b9f6e3-d4b7-4750-a941-4223523a2164",
   "metadata": {},
   "source": [
    "The ingredients we need are the following:\n",
    "- a pairing-friendly elliptic curve -> bn254\n",
    "- an implementation of KZG commitments -> we will do it\n",
    "- a root of unity of order of a power of 2.\n"
   ]
  },
  {
   "cell_type": "code",
   "execution_count": 1,
   "id": "925fe19c-bd56-483f-a000-f279f7e48845",
   "metadata": {},
   "outputs": [
    {
     "data": {
      "text/plain": [
       "16798108731015832284940804142231733909759579603404752749028378864165570215949"
      ]
     },
     "execution_count": 1,
     "metadata": {},
     "output_type": "execute_result"
    }
   ],
   "source": [
    "from bn254.curve import r\n",
    "r"
   ]
  }
 ],
 "metadata": {
  "kernelspec": {
   "display_name": "Python 3 (ipykernel)",
   "language": "python",
   "name": "python3"
  },
  "language_info": {
   "codemirror_mode": {
    "name": "ipython",
    "version": 3
   },
   "file_extension": ".py",
   "mimetype": "text/x-python",
   "name": "python",
   "nbconvert_exporter": "python",
   "pygments_lexer": "ipython3",
   "version": "3.10.12"
  }
 },
 "nbformat": 4,
 "nbformat_minor": 5
}
